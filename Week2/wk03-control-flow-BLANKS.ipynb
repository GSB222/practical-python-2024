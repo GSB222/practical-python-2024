{
 "cells": [
  {
   "cell_type": "markdown",
   "id": "a50b15cc",
   "metadata": {},
   "source": [
    "## Q. 1\n",
    "You have a dataset that contains temperature data recorded daily over a month for a fictious city. Categorize the temperature into different levels based on the following conditions:\n",
    "\n",
    "- \"Cold\" if the temperature is 50°F and below.\n",
    "- \"Cool\" if the temperature is above 50°F but below 68°F.\n",
    "- \"Warm\" if the temperature is 68°F and above but less than 86°F.\n",
    "- \"Hot\" if the temperature is 86°F and above.\n",
    "\n",
    "Print the result in the format ```Temperature X°F: whatever Category```\n"
   ]
  },
  {
   "cell_type": "code",
   "execution_count": 1,
   "id": "8ac2e955",
   "metadata": {},
   "outputs": [],
   "source": [
    "### dataset of temperatures:\n",
    "\n",
    "temps = [45, 52, 68, 73, 89, 47, 55, 81, 66,\n",
    "         77, 58, 62, 91, 49, 72, 85, 40, 63, 87, 53,\n",
    "         78, 60, 44, 59, 75, 90, 56, 48, 67, 82]\n"
   ]
  },
  {
   "cell_type": "code",
   "execution_count": 7,
   "id": "66c0e600",
   "metadata": {},
   "outputs": [
    {
     "name": "stdout",
     "output_type": "stream",
     "text": [
      "87°F is hot.\n"
     ]
    }
   ],
   "source": [
    "## code it here \n",
    "\n",
    "temp = 87\n",
    "\n",
    "if temp <= 50:\n",
    "    print(f\"{temp}°F is cold.\")\n",
    "elif 50 <= temp <= 68:\n",
    "    print(f\"{temp}°F is cool.\")\n",
    "elif 68 <= temp <= 86:\n",
    "    print(f\"{temp}°F is warm.\")\n",
    "elif temp > 86:\n",
    "    print(f\"{temp}°F is hot.\")\n",
    "else:\n",
    "    print(f\"Temperature Control\") "
   ]
  },
  {
   "cell_type": "markdown",
   "id": "ea7e9b9c",
   "metadata": {},
   "source": [
    "## Q. 2\n",
    "\n",
    "Now instead of printing the results, create a list of dictionaries in which each dictionary holds the key-value pairs of ```{\"temp\": temp_value}```"
   ]
  },
  {
   "cell_type": "code",
   "execution_count": 10,
   "id": "0947a342",
   "metadata": {},
   "outputs": [
    {
     "data": {
      "text/plain": [
       "{'cold': '<= 50'}"
      ]
     },
     "execution_count": 10,
     "metadata": {},
     "output_type": "execute_result"
    }
   ],
   "source": [
    "## code it here\n",
    "temp_cold = {\"cold\": \"<= 50\"}\n",
    "temp_cold"
   ]
  },
  {
   "cell_type": "code",
   "execution_count": 11,
   "id": "0c928d52",
   "metadata": {},
   "outputs": [
    {
     "data": {
      "text/plain": [
       "{'cool': '50 <= temp <= 68'}"
      ]
     },
     "execution_count": 11,
     "metadata": {},
     "output_type": "execute_result"
    }
   ],
   "source": [
    "temp_cool = {\"cool\": \"50 <= temp <= 68\"}\n",
    "temp_cool"
   ]
  },
  {
   "cell_type": "code",
   "execution_count": 14,
   "id": "8b218e72",
   "metadata": {},
   "outputs": [
    {
     "data": {
      "text/plain": [
       "{'warm': '68 <= temp <= 86'}"
      ]
     },
     "execution_count": 14,
     "metadata": {},
     "output_type": "execute_result"
    }
   ],
   "source": [
    "temp_warm = {\"warm\": \"68 <= temp <= 86\"}\n",
    "temp_warm"
   ]
  },
  {
   "cell_type": "code",
   "execution_count": 12,
   "id": "611d3e88",
   "metadata": {},
   "outputs": [
    {
     "data": {
      "text/plain": [
       "{'hot': 'temp > 86'}"
      ]
     },
     "execution_count": 12,
     "metadata": {},
     "output_type": "execute_result"
    }
   ],
   "source": [
    "temp_hot = {\"hot\": \"temp > 86\"}\n",
    "temp_hot"
   ]
  },
  {
   "cell_type": "code",
   "execution_count": 16,
   "id": "5e61bc48",
   "metadata": {},
   "outputs": [
    {
     "data": {
      "text/plain": [
       "[{'cold': '<= 50'},\n",
       " {'cool': '50 <= temp <= 68'},\n",
       " {'warm': '68 <= temp <= 86'},\n",
       " {'hot': 'temp > 86'}]"
      ]
     },
     "execution_count": 16,
     "metadata": {},
     "output_type": "execute_result"
    }
   ],
   "source": [
    "temp_list = [temp_cold, temp_cool, temp_warm, temp_hot]\n",
    "temp_list"
   ]
  },
  {
   "cell_type": "markdown",
   "id": "46a15fb0",
   "metadata": {},
   "source": [
    "## Q. 3\n",
    "\n",
    "You have several lists that hold related data points. **Dynamically** create a list of dictionaries that hold each as a set of values. For example, your list of dictionaries should look like:\n",
    "\n",
    "```[{\"first_name\": \"Irene\", \"last_name\": \"Rosenfeld\", \"title\": \"Chair and CEO\", \"company\": \"Kraft Foods\", \"industry\": \"Food and Beverage\"}, ...NEXT dictionary]```\n",
    "\n",
    "**Dynamically** means don't manually create the dictionaries. Use programming to create your dictionaries."
   ]
  },
  {
   "cell_type": "code",
   "execution_count": 24,
   "id": "b88860fe",
   "metadata": {},
   "outputs": [],
   "source": [
    "## ##  RUN THIS CELL - \n",
    "## Here we have a list of CEOs and their relevant data points.\n",
    "first_names = [\"Irene\", \"Ursula\", \"Elon\", \"Tim\"]\n",
    "last_names = [\"Rosenfeld\", \"Burns\", \"Musk\", \"Cook\"]\n",
    "titles = [\"Chair and CEO\", \"Chair and CEO\", \"CEO\", \"CEO\"]\n",
    "companies = [\"Kraft Foods\", \"Xerox\", \"Tesla\", \"Apple\"]\n",
    "industries = [\"Food and Beverage\", \"Process and Document Management\",\n",
    "              \"Auto Manufacturing\", \"Consumer Technology\"]"
   ]
  },
  {
   "cell_type": "code",
   "execution_count": 23,
   "id": "49d85a56",
   "metadata": {},
   "outputs": [
    {
     "name": "stdout",
     "output_type": "stream",
     "text": [
      "('Irene', 'Rosenfeld', 'Chair and CEO', 'Kraft Foods', 'Food and Beverage')\n",
      "('Ursula', 'Burns', 'Chair and CEO', 'Xerox', 'Process and Document Management')\n",
      "('Elon', 'Musk', 'CEO', 'Tesla', 'Auto Manufacturing')\n",
      "('Tim', 'Cook', 'CEO', 'Apple', 'Consumer Technology')\n"
     ]
    }
   ],
   "source": [
    "## code it here\n",
    "ceo_points = []\n",
    "\n",
    "for (first_name, last_name, title, companie, industrie) in zip(first_names, last_names, titles, companies, industries):\n",
    "    try:\n",
    "        print(f\"{first_name, last_name, title, companie, industrie}\")\n",
    "        #ceo_points.append()\n",
    "    except:\n",
    "         print(\"There is an error in this dictionary\")\n",
    "\n"
   ]
  },
  {
   "cell_type": "code",
   "execution_count": 34,
   "id": "42b2fbdd",
   "metadata": {},
   "outputs": [],
   "source": [
    "ceo_points = []\n",
    "\n",
    "for (first_name, last_name, title, company, industry) in zip(first_names, last_names, titles, companies, industries):\n",
    "    ceo_points.append({\"First Name\": first_name, \"Last Name\": last_name,\"Company\": company, \"Industry\": industry})\n"
   ]
  },
  {
   "cell_type": "code",
   "execution_count": 35,
   "id": "065a2883",
   "metadata": {},
   "outputs": [
    {
     "data": {
      "text/plain": [
       "[{'First Name': 'Irene',\n",
       "  'Last Name': 'Rosenfeld',\n",
       "  'Company': 'Kraft Foods',\n",
       "  'Industry': 'Food and Beverage'},\n",
       " {'First Name': 'Ursula',\n",
       "  'Last Name': 'Burns',\n",
       "  'Company': 'Xerox',\n",
       "  'Industry': 'Process and Document Management'},\n",
       " {'First Name': 'Elon',\n",
       "  'Last Name': 'Musk',\n",
       "  'Company': 'Tesla',\n",
       "  'Industry': 'Auto Manufacturing'},\n",
       " {'First Name': 'Tim',\n",
       "  'Last Name': 'Cook',\n",
       "  'Company': 'Apple',\n",
       "  'Industry': 'Consumer Technology'}]"
      ]
     },
     "execution_count": 35,
     "metadata": {},
     "output_type": "execute_result"
    }
   ],
   "source": [
    "ceo_points"
   ]
  },
  {
   "cell_type": "code",
   "execution_count": null,
   "id": "5e57caee",
   "metadata": {},
   "outputs": [],
   "source": []
  }
 ],
 "metadata": {
  "kernelspec": {
   "display_name": "Python 3 (ipykernel)",
   "language": "python",
   "name": "python3"
  },
  "language_info": {
   "codemirror_mode": {
    "name": "ipython",
    "version": 3
   },
   "file_extension": ".py",
   "mimetype": "text/x-python",
   "name": "python",
   "nbconvert_exporter": "python",
   "pygments_lexer": "ipython3",
   "version": "3.11.5"
  }
 },
 "nbformat": 4,
 "nbformat_minor": 5
}
